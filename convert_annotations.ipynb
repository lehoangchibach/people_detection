{
 "cells": [
  {
   "cell_type": "code",
   "execution_count": 77,
   "id": "0d7fb317-4cae-4173-9266-ed881ea2e098",
   "metadata": {},
   "outputs": [],
   "source": [
    "import json"
   ]
  },
  {
   "cell_type": "code",
   "execution_count": 78,
   "id": "33f2572e-1449-448e-8d8e-fb0bdd2c7c51",
   "metadata": {
    "scrolled": true
   },
   "outputs": [],
   "source": [
    "import os\n",
    "\n",
    "os.environ[\"KERAS_BACKEND\"] = \"torch\"  # @param [\"tensorflow\", \"jax\", \"torch\"]\n",
    "import torch\n",
    "\n",
    "from tensorflow import data as tf_data\n",
    "import tensorflow_datasets as tfds\n",
    "import keras\n",
    "import keras_cv\n",
    "import numpy as np\n",
    "from keras_cv import bounding_box\n",
    "import os\n",
    "from keras_cv import visualization\n",
    "import tqdm"
   ]
  },
  {
   "cell_type": "code",
   "execution_count": 106,
   "id": "35af2ddf-02c4-4a35-a376-10b8c8f5b3f8",
   "metadata": {},
   "outputs": [],
   "source": [
    "def convert_annotations(img_type: str):\n",
    "    with open(f'annotations/dhd_pedestrian_traffic_{img_type}.json') as f:\n",
    "        annotations = json.load(f)\n",
    "    \n",
    "    boxes = {}\n",
    "    for anno in annotations[\"annotations\"]:\n",
    "        image_id = anno['image_id']\n",
    "        if image_id not in boxes:\n",
    "            boxes[image_id] = {}\n",
    "            boxes[image_id][\"image_path\"] = f'images/{img_type}/{image_id}.jpg'\n",
    "            boxes[image_id][\"boxes\"] = []\n",
    "            boxes[image_id][\"class_ids\"] = []\n",
    "        boxes[image_id][\"boxes\"].append(anno['bbox'])\n",
    "        boxes[image_id][\"class_ids\"].append(1)\n",
    "\n",
    "    return boxes"
   ]
  },
  {
   "cell_type": "code",
   "execution_count": 107,
   "id": "230b5b82-20d1-40b7-96af-8f387d8ede00",
   "metadata": {},
   "outputs": [],
   "source": [
    "annos = convert_annotations('val')"
   ]
  },
  {
   "cell_type": "code",
   "execution_count": 110,
   "id": "c91baed1-956c-4b85-9c59-49fccb70cc0b",
   "metadata": {},
   "outputs": [
    {
     "data": {
      "text/plain": [
       "{'image_path': 'images/val/1496888435770.jpg',\n",
       " 'boxes': [[464.8800048828125,\n",
       "   609.1749877929688,\n",
       "   62.680419921875,\n",
       "   118.83203125],\n",
       "  [443.3330078125, 612.4400024414062, 69.2095947265625, 73.78009033203125],\n",
       "  [394.364013671875, 614.3989868164062, 30.034393310546875, 71.16839599609375],\n",
       "  [30.687299728393555,\n",
       "   590.2410278320312,\n",
       "   158.66000366210938,\n",
       "   317.97296142578125]],\n",
       " 'class_ids': [1, 1, 1, 1]}"
      ]
     },
     "execution_count": 110,
     "metadata": {},
     "output_type": "execute_result"
    }
   ],
   "source": [
    "annos[1496888435770]"
   ]
  },
  {
   "cell_type": "code",
   "execution_count": 114,
   "id": "88b82cfd-1adf-47e7-a589-77d5d473a187",
   "metadata": {},
   "outputs": [],
   "source": [
    "image_paths = []\n",
    "boxes = []\n",
    "class_ids = []\n",
    "for i in annos:\n",
    "    x = annos[i]\n",
    "    image_paths.append(x['image_path'])\n",
    "    boxes.append(x['boxes'])\n",
    "    class_ids.append(x['class_ids'])"
   ]
  },
  {
   "cell_type": "code",
   "execution_count": 118,
   "id": "cb7c38f8-c186-4661-87fd-7763429ecd74",
   "metadata": {
    "scrolled": true
   },
   "outputs": [
    {
     "data": {
      "text/plain": [
       "[[1, 1, 1, 1],\n",
       " [1, 1, 1, 1],\n",
       " [1, 1, 1, 1],\n",
       " [1, 1, 1, 1, 1],\n",
       " [1, 1],\n",
       " [1],\n",
       " [1, 1, 1],\n",
       " [1, 1, 1, 1, 1, 1, 1, 1, 1, 1, 1],\n",
       " [1, 1],\n",
       " [1]]"
      ]
     },
     "execution_count": 118,
     "metadata": {},
     "output_type": "execute_result"
    }
   ],
   "source": [
    "class_ids[:10]"
   ]
  },
  {
   "cell_type": "code",
   "execution_count": null,
   "id": "06f792b8-b207-468b-957d-cc035f147f92",
   "metadata": {},
   "outputs": [],
   "source": []
  }
 ],
 "metadata": {
  "kernelspec": {
   "display_name": "Python 3 (ipykernel)",
   "language": "python",
   "name": "python3"
  },
  "language_info": {
   "codemirror_mode": {
    "name": "ipython",
    "version": 3
   },
   "file_extension": ".py",
   "mimetype": "text/x-python",
   "name": "python",
   "nbconvert_exporter": "python",
   "pygments_lexer": "ipython3",
   "version": "3.11.8"
  }
 },
 "nbformat": 4,
 "nbformat_minor": 5
}
